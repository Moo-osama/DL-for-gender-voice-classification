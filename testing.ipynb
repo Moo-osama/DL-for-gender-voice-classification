{
  "nbformat": 4,
  "nbformat_minor": 0,
  "metadata": {
    "language_info": {
      "codemirror_mode": {
        "name": "ipython",
        "version": 3
      },
      "file_extension": ".py",
      "mimetype": "text/x-python",
      "name": "python",
      "nbconvert_exporter": "python",
      "pygments_lexer": "ipython3",
      "version": "3.7.8"
    },
    "orig_nbformat": 2,
    "kernelspec": {
      "name": "python378jvsc74a57bd0e9b1f509821375cdda5f1a35cfc5eafb928dc0da629ea8ed9cd6d8e172df854d",
      "display_name": "Python 3.7.8 64-bit"
    },
    "colab": {
      "name": "testing.ipynb",
      "provenance": []
    }
  },
  "cells": [
    {
      "cell_type": "code",
      "metadata": {
        "id": "bTdxlfJSEBoJ"
      },
      "source": [
        "import tensorflow as tf\n",
        "import pandas as pd\n",
        "import numpy as np\n",
        "import matplotlib.pyplot as plt\n",
        "from sklearn.model_selection import train_test_split\n",
        "from sklearn.utils import shuffle\n",
        "from sklearn.decomposition import PCA\n",
        "from sklearn.preprocessing import StandardScaler\n",
        "import pickle as pk"
      ],
      "execution_count": 1,
      "outputs": []
    },
    {
      "cell_type": "code",
      "metadata": {
        "id": "uVqoniEkEBoX"
      },
      "source": [
        "data=pd.read_csv('mahmoud.csv')"
      ],
      "execution_count": 2,
      "outputs": []
    },
    {
      "cell_type": "code",
      "metadata": {
        "colab": {
          "base_uri": "https://localhost:8080/",
          "height": 117
        },
        "id": "f_MUPPgZEBoY",
        "outputId": "2beeb5c4-d9d5-4a56-a5e9-5da1ea88aa06"
      },
      "source": [
        "data.head()"
      ],
      "execution_count": 3,
      "outputs": [
        {
          "output_type": "execute_result",
          "data": {
            "text/html": [
              "<div>\n",
              "<style scoped>\n",
              "    .dataframe tbody tr th:only-of-type {\n",
              "        vertical-align: middle;\n",
              "    }\n",
              "\n",
              "    .dataframe tbody tr th {\n",
              "        vertical-align: top;\n",
              "    }\n",
              "\n",
              "    .dataframe thead th {\n",
              "        text-align: right;\n",
              "    }\n",
              "</style>\n",
              "<table border=\"1\" class=\"dataframe\">\n",
              "  <thead>\n",
              "    <tr style=\"text-align: right;\">\n",
              "      <th></th>\n",
              "      <th>Unnamed: 0</th>\n",
              "      <th>sound.files</th>\n",
              "      <th>selec</th>\n",
              "      <th>duration</th>\n",
              "      <th>meanfreq</th>\n",
              "      <th>sd</th>\n",
              "      <th>median</th>\n",
              "      <th>Q25</th>\n",
              "      <th>Q75</th>\n",
              "      <th>IQR</th>\n",
              "      <th>skew</th>\n",
              "      <th>kurt</th>\n",
              "      <th>sp.ent</th>\n",
              "      <th>sfm</th>\n",
              "      <th>mode</th>\n",
              "      <th>centroid</th>\n",
              "      <th>peakf</th>\n",
              "      <th>meanfun</th>\n",
              "      <th>minfun</th>\n",
              "      <th>maxfun</th>\n",
              "      <th>meandom</th>\n",
              "      <th>mindom</th>\n",
              "      <th>maxdom</th>\n",
              "      <th>dfrange</th>\n",
              "      <th>modindx</th>\n",
              "    </tr>\n",
              "  </thead>\n",
              "  <tbody>\n",
              "    <tr>\n",
              "      <th>0</th>\n",
              "      <td>1</td>\n",
              "      <td>mahmoud.wav</td>\n",
              "      <td>0</td>\n",
              "      <td>20</td>\n",
              "      <td>0.187561</td>\n",
              "      <td>0.057652</td>\n",
              "      <td>0.156471</td>\n",
              "      <td>0.144118</td>\n",
              "      <td>0.253235</td>\n",
              "      <td>0.109118</td>\n",
              "      <td>2.948826</td>\n",
              "      <td>14.188209</td>\n",
              "      <td>0.828326</td>\n",
              "      <td>0.195658</td>\n",
              "      <td>0.152353</td>\n",
              "      <td>0.187561</td>\n",
              "      <td>0</td>\n",
              "      <td>0.138664</td>\n",
              "      <td>0.119403</td>\n",
              "      <td>0.148148</td>\n",
              "      <td>0.324219</td>\n",
              "      <td>0.125</td>\n",
              "      <td>0.695312</td>\n",
              "      <td>0.570312</td>\n",
              "      <td>0.5</td>\n",
              "    </tr>\n",
              "  </tbody>\n",
              "</table>\n",
              "</div>"
            ],
            "text/plain": [
              "   Unnamed: 0  sound.files  selec  ...    maxdom   dfrange  modindx\n",
              "0           1  mahmoud.wav      0  ...  0.695312  0.570312      0.5\n",
              "\n",
              "[1 rows x 25 columns]"
            ]
          },
          "metadata": {
            "tags": []
          },
          "execution_count": 3
        }
      ]
    },
    {
      "cell_type": "code",
      "metadata": {
        "colab": {
          "base_uri": "https://localhost:8080/",
          "height": 80
        },
        "id": "btqxlpMtEBoa",
        "outputId": "38f22698-dde0-4660-eb94-6e8a4cc6505b"
      },
      "source": [
        "data.drop(['Unnamed: 0', 'sound.files', 'selec', 'duration', 'peakf'], axis=1, inplace=True)\n",
        "data.head()"
      ],
      "execution_count": 4,
      "outputs": [
        {
          "output_type": "execute_result",
          "data": {
            "text/html": [
              "<div>\n",
              "<style scoped>\n",
              "    .dataframe tbody tr th:only-of-type {\n",
              "        vertical-align: middle;\n",
              "    }\n",
              "\n",
              "    .dataframe tbody tr th {\n",
              "        vertical-align: top;\n",
              "    }\n",
              "\n",
              "    .dataframe thead th {\n",
              "        text-align: right;\n",
              "    }\n",
              "</style>\n",
              "<table border=\"1\" class=\"dataframe\">\n",
              "  <thead>\n",
              "    <tr style=\"text-align: right;\">\n",
              "      <th></th>\n",
              "      <th>meanfreq</th>\n",
              "      <th>sd</th>\n",
              "      <th>median</th>\n",
              "      <th>Q25</th>\n",
              "      <th>Q75</th>\n",
              "      <th>IQR</th>\n",
              "      <th>skew</th>\n",
              "      <th>kurt</th>\n",
              "      <th>sp.ent</th>\n",
              "      <th>sfm</th>\n",
              "      <th>mode</th>\n",
              "      <th>centroid</th>\n",
              "      <th>meanfun</th>\n",
              "      <th>minfun</th>\n",
              "      <th>maxfun</th>\n",
              "      <th>meandom</th>\n",
              "      <th>mindom</th>\n",
              "      <th>maxdom</th>\n",
              "      <th>dfrange</th>\n",
              "      <th>modindx</th>\n",
              "    </tr>\n",
              "  </thead>\n",
              "  <tbody>\n",
              "    <tr>\n",
              "      <th>0</th>\n",
              "      <td>0.187561</td>\n",
              "      <td>0.057652</td>\n",
              "      <td>0.156471</td>\n",
              "      <td>0.144118</td>\n",
              "      <td>0.253235</td>\n",
              "      <td>0.109118</td>\n",
              "      <td>2.948826</td>\n",
              "      <td>14.188209</td>\n",
              "      <td>0.828326</td>\n",
              "      <td>0.195658</td>\n",
              "      <td>0.152353</td>\n",
              "      <td>0.187561</td>\n",
              "      <td>0.138664</td>\n",
              "      <td>0.119403</td>\n",
              "      <td>0.148148</td>\n",
              "      <td>0.324219</td>\n",
              "      <td>0.125</td>\n",
              "      <td>0.695312</td>\n",
              "      <td>0.570312</td>\n",
              "      <td>0.5</td>\n",
              "    </tr>\n",
              "  </tbody>\n",
              "</table>\n",
              "</div>"
            ],
            "text/plain": [
              "   meanfreq        sd    median       Q25  ...  mindom    maxdom   dfrange  modindx\n",
              "0  0.187561  0.057652  0.156471  0.144118  ...   0.125  0.695312  0.570312      0.5\n",
              "\n",
              "[1 rows x 20 columns]"
            ]
          },
          "metadata": {
            "tags": []
          },
          "execution_count": 4
        }
      ]
    },
    {
      "cell_type": "code",
      "metadata": {
        "colab": {
          "base_uri": "https://localhost:8080/"
        },
        "id": "joAOcTTsEBob",
        "outputId": "f10ab037-30b2-415c-b4b5-eb3a2d21cca4"
      },
      "source": [
        "model = tf.keras.models.load_model('model.h5')\n",
        "pca = pk.load(open(\"pca.pkl\",'rb'))\n",
        "scaler = pk.load(open(\"scaler.pkl\",'rb'))"
      ],
      "execution_count": 5,
      "outputs": [
        {
          "output_type": "stream",
          "text": [
            "/usr/local/lib/python3.7/dist-packages/sklearn/base.py:318: UserWarning: Trying to unpickle estimator PCA from version 0.22.2 when using version 0.22.2.post1. This might lead to breaking code or invalid results. Use at your own risk.\n",
            "  UserWarning)\n",
            "/usr/local/lib/python3.7/dist-packages/sklearn/base.py:318: UserWarning: Trying to unpickle estimator StandardScaler from version 0.22.2 when using version 0.22.2.post1. This might lead to breaking code or invalid results. Use at your own risk.\n",
            "  UserWarning)\n"
          ],
          "name": "stderr"
        }
      ]
    },
    {
      "cell_type": "code",
      "metadata": {
        "id": "51bTLaFXEBoc"
      },
      "source": [
        "x = data.values\n",
        "x = scaler.transform(x)\n",
        "x = pca.transform(x)"
      ],
      "execution_count": 6,
      "outputs": []
    },
    {
      "cell_type": "code",
      "metadata": {
        "id": "ZCe-97FDEBod"
      },
      "source": [
        "configuration = tf.compat.v1.ConfigProto()\n",
        "configuration.gpu_options.allow_growth = True\n",
        "session = tf.compat.v1.Session(config=configuration)\n",
        "\n",
        "res = model.predict(x)[0][0]>0.5"
      ],
      "execution_count": 9,
      "outputs": []
    },
    {
      "cell_type": "code",
      "metadata": {
        "colab": {
          "base_uri": "https://localhost:8080/"
        },
        "id": "j9Mv7pvJEBoe",
        "outputId": "ef1dbfb4-5acb-4ca1-ad42-d2257cff0c05"
      },
      "source": [
        "res"
      ],
      "execution_count": 10,
      "outputs": [
        {
          "output_type": "execute_result",
          "data": {
            "text/plain": [
              "True"
            ]
          },
          "metadata": {
            "tags": []
          },
          "execution_count": 10
        }
      ]
    },
    {
      "cell_type": "code",
      "metadata": {
        "id": "YQNh8KSeEBof"
      },
      "source": [
        ""
      ],
      "execution_count": null,
      "outputs": []
    }
  ]
}